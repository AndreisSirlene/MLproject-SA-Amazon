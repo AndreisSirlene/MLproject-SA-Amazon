version https://git-lfs.github.com/spec/v1
oid sha256:6b11c2a96997b6d181d9038792d7a7fa3916cd42d2bcd6ef4699d1eab99f1bfe
size 4278275
